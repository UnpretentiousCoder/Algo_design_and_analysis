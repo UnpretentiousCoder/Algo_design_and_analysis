{
 "cells": [
  {
   "cell_type": "markdown",
   "id": "36c04945",
   "metadata": {},
   "source": [
    "### Lab 1: Hybrid mergesort with insertion sort ###\n"
   ]
  },
  {
   "cell_type": "code",
   "execution_count": 1,
   "id": "f9fa6887",
   "metadata": {},
   "outputs": [],
   "source": [
    "def insertion_sort(arr,key_comparisons):\n",
    "    if len(arr)<= 1:\n",
    "        return arr, key_comparisons\n",
    "    for i in range(1, len(arr)):\n",
    "        for j in range(i,0,-1):\n",
    "            key_comparisons += 1\n",
    "            if arr[j]< arr[j-1]:\n",
    "                arr[j], arr[j-1] = arr[j-1], arr[j]\n",
    "            else:\n",
    "                break\n",
    "        \n",
    "    return arr, key_comparisons"
   ]
  },
  {
   "cell_type": "code",
   "execution_count": 2,
   "id": "ec4e36c9",
   "metadata": {},
   "outputs": [
    {
     "data": {
      "text/plain": [
       "([1, 2, 3, 4, 5, 6], 12)"
      ]
     },
     "execution_count": 2,
     "metadata": {},
     "output_type": "execute_result"
    }
   ],
   "source": [
    "arr = [5,2,4,6,1,3]\n",
    "insertion_sort(arr, 0)"
   ]
  },
  {
   "cell_type": "code",
   "execution_count": 3,
   "id": "4d2a9fdc",
   "metadata": {},
   "outputs": [],
   "source": [
    "def merge(left, right, key_comparisons):\n",
    "    result = []\n",
    "    leftl = len(left)\n",
    "    rightl = len(right)\n",
    "    i,j = 0,0 \n",
    "    while i<leftl and j < rightl:\n",
    "        if left[i] < right[j]:\n",
    "            result.append(left[i])\n",
    "            i+= 1\n",
    "        else:\n",
    "            result.append(right[j])\n",
    "            j+= 1\n",
    "        key_comparisons += 1\n",
    "    if i < leftl:\n",
    "        result.extend(left[i:])\n",
    "    if j < rightl:\n",
    "        result.extend(right[j:])\n",
    "    \n",
    "    return result, key_comparisons"
   ]
  },
  {
   "cell_type": "code",
   "execution_count": 4,
   "id": "09b3c01e",
   "metadata": {},
   "outputs": [],
   "source": [
    "def mergesort_hybrid(arr, threshold, key_comparisons):\n",
    "    if threshold < 1:\n",
    "        return insertion_sort(arr, key_comparisons)\n",
    "    N = len(arr)\n",
    "    mid = N//2\n",
    "    left,key_compL = mergesort_hybrid(arr[:mid], threshold-1, key_comparisons)\n",
    "    right, key_compR = mergesort_hybrid(arr[mid:], threshold-1, key_comparisons)\n",
    "\n",
    "    return merge(left, right, key_comparisons + key_compR + key_compL)\n"
   ]
  },
  {
   "cell_type": "code",
   "execution_count": 5,
   "id": "f02d2e4a",
   "metadata": {},
   "outputs": [
    {
     "data": {
      "text/plain": [
       "([0, 1, 2, 3, 4, 5, 6, 8, 9, 10], 21)"
      ]
     },
     "execution_count": 5,
     "metadata": {},
     "output_type": "execute_result"
    }
   ],
   "source": [
    "arr = [5,2,4,6,1,3,9,0,8,10]\n",
    "mergesort_hybrid(arr, 1, 0)"
   ]
  },
  {
   "cell_type": "code",
   "execution_count": 6,
   "id": "b88b23f5",
   "metadata": {},
   "outputs": [],
   "source": [
    "import random\n",
    "sizes = [1000, 50000, 250000, 1000000, 5000000, 10000000]\n",
    "S = 10\n",
    "test_arrays = {}\n",
    "for size in sizes:\n",
    "    test_arrays[size] = random.sample(range(1, size + 1), size)\n",
    "\n",
    "# Measure comparisons for each size\n",
    "results = {}\n",
    "times = {}"
   ]
  },
  {
   "cell_type": "code",
   "execution_count": null,
   "id": "93611d54",
   "metadata": {},
   "outputs": [
    {
     "name": "stdout",
     "output_type": "stream",
     "text": [
      "Testing size: 1,000\n",
      "  Comparisons: 8,677\n",
      "  Time: 0.0082 seconds\n",
      "Testing size: 50,000\n",
      "  Comparisons: 1,142,567\n",
      "  Time: 0.4041 seconds\n",
      "Testing size: 250,000\n",
      "  Comparisons: 17,969,386\n",
      "  Time: 5.1220 seconds\n",
      "Testing size: 1,000,000\n",
      "  Comparisons: 254,904,770\n",
      "  Time: 97.4151 seconds\n",
      "Testing size: 5,000,000\n",
      "  Comparisons: 6,157,225,898\n",
      "  Time: 2704.6441 seconds\n",
      "Testing size: 10,000,000\n"
     ]
    }
   ],
   "source": [
    "import time\n",
    "for size in sizes:\n",
    "    print(f\"Testing size: {size:,}\")\n",
    "    \n",
    "    comparison_count = 0\n",
    "    \n",
    "    arr_copy = test_arrays[size].copy()\n",
    "    \n",
    "    start_time = time.time()\n",
    "    sorted_arr, comparison_count = mergesort_hybrid(arr_copy, S, 0)\n",
    "    end_time = time.time()\n",
    "    \n",
    "    results[size] = comparison_count\n",
    "    times[size] = end_time - start_time\n",
    "    \n",
    "    print(f\"  Comparisons: {comparison_count:,}\")\n",
    "    print(f\"  Time: {end_time - start_time:.4f} seconds\")"
   ]
  },
  {
   "cell_type": "code",
   "execution_count": null,
   "id": "aef5d6d4",
   "metadata": {},
   "outputs": [],
   "source": []
  }
 ],
 "metadata": {
  "kernelspec": {
   "display_name": "Python 3",
   "language": "python",
   "name": "python3"
  },
  "language_info": {
   "codemirror_mode": {
    "name": "ipython",
    "version": 3
   },
   "file_extension": ".py",
   "mimetype": "text/x-python",
   "name": "python",
   "nbconvert_exporter": "python",
   "pygments_lexer": "ipython3",
   "version": "3.11.9"
  }
 },
 "nbformat": 4,
 "nbformat_minor": 5
}
