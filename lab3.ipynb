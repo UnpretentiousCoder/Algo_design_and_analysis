{
 "cells": [
  {
   "cell_type": "markdown",
   "id": "229614fc",
   "metadata": {},
   "source": [
    "### LAB 3 ###\n",
    "### 0/1 Knapsack problem ###"
   ]
  },
  {
   "cell_type": "markdown",
   "id": "444d8f2b",
   "metadata": {},
   "source": [
    "We can take the same item many times — infinite supply. So, instead of remembering which items are left, we only care about the best profit for each capacity, since you can always reuse an item.\n",
    "\n",
    "We will use a bottom-up DP approach, using a 1D DP"
   ]
  },
  {
   "cell_type": "code",
   "execution_count": 1,
   "id": "adf265c1",
   "metadata": {},
   "outputs": [],
   "source": [
    "#For first set of weights and profits\n",
    "w1 = [4,6,8]\n",
    "p1 = [7,6,9]"
   ]
  },
  {
   "cell_type": "markdown",
   "id": "a54afa5c",
   "metadata": {},
   "source": [
    "### Bottom-up DP approach, using a 1D DP\n",
    "\n",
    "Bottom-Up DP (also called tabulation) is a dynamic programming technique that solves problems by:\n",
    "- Decompose original problem into mulitple smaller subprobelms and start solving from the smallest subproblems\n",
    "- Building up solutions iteratively to larger subproblems using solutions from smaller subproblems\n",
    "- Filling a table of solutons in a systematic order"
   ]
  },
  {
   "cell_type": "markdown",
   "id": "d68b0c4f",
   "metadata": {},
   "source": [
    "#### Pseudocode\n",
    "\n",
    "def unbounded_knapsack(weights, profits, capacity):\n",
    "    initialize dp array with 0's to store max profit for each capacity\n",
    "\n",
    "    for each capacity from 0 to actual capacity:\n",
    "        for each item/weight:\n",
    "            if item's weight can be fitted in the bag with capacity i\n",
    "                set the max profit to the maximum between \"dont take item\" and \"take item\"\n",
    "                \n",
    "    return solution of the original problem"
   ]
  },
  {
   "cell_type": "code",
   "execution_count": null,
   "id": "3ae33bd3",
   "metadata": {},
   "outputs": [],
   "source": [
    "def unbounded_knapsack(weights, profits, capacity):\n",
    "    dp = [0] * (capacity +1) \n",
    "    for i in range(1, capacity + 1):\n",
    "        for j in range(len(weights)): \n",
    "            if weights[j]<= i: \n",
    "                dp[i] = max(dp[i], dp[i-weights[j]] + profits[j]) \n",
    "    return dp[capacity], dp\n"
   ]
  },
  {
   "cell_type": "code",
   "execution_count": 7,
   "id": "fd39422a",
   "metadata": {},
   "outputs": [
    {
     "data": {
      "text/plain": [
       "(21, [0, 0, 0, 0, 7, 7, 7, 7, 14, 14, 14, 14, 21, 21, 21])"
      ]
     },
     "execution_count": 7,
     "metadata": {},
     "output_type": "execute_result"
    }
   ],
   "source": [
    "unbounded_knapsack(w1, p1, 14)"
   ]
  },
  {
   "cell_type": "code",
   "execution_count": 8,
   "id": "2b37704f",
   "metadata": {},
   "outputs": [],
   "source": [
    "#For second set of weights and profits\n",
    "w2 = [5,6,8]\n",
    "p2 = [7,6,9]"
   ]
  },
  {
   "cell_type": "code",
   "execution_count": 9,
   "id": "6b686e77",
   "metadata": {},
   "outputs": [
    {
     "data": {
      "text/plain": [
       "(16, [0, 0, 0, 0, 0, 7, 7, 7, 9, 9, 14, 14, 14, 16, 16])"
      ]
     },
     "execution_count": 9,
     "metadata": {},
     "output_type": "execute_result"
    }
   ],
   "source": [
    "unbounded_knapsack(w2, p2, 14)"
   ]
  }
 ],
 "metadata": {
  "kernelspec": {
   "display_name": "Python 3",
   "language": "python",
   "name": "python3"
  },
  "language_info": {
   "codemirror_mode": {
    "name": "ipython",
    "version": 3
   },
   "file_extension": ".py",
   "mimetype": "text/x-python",
   "name": "python",
   "nbconvert_exporter": "python",
   "pygments_lexer": "ipython3",
   "version": "3.11.9"
  }
 },
 "nbformat": 4,
 "nbformat_minor": 5
}
